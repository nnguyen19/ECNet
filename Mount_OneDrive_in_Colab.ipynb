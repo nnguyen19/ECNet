{
  "nbformat": 4,
  "nbformat_minor": 0,
  "metadata": {
    "colab": {
      "name": "Mount_OneDrive_in_Colab.ipynb",
      "provenance": [],
      "collapsed_sections": [],
      "include_colab_link": true
    },
    "kernelspec": {
      "name": "python3",
      "display_name": "Python 3"
    }
  },
  "cells": [
    {
      "cell_type": "markdown",
      "metadata": {
        "id": "view-in-github",
        "colab_type": "text"
      },
      "source": [
        "<a href=\"https://colab.research.google.com/github/nnguyen19/ECNet/blob/main/Mount_OneDrive_in_Colab.ipynb\" target=\"_parent\"><img src=\"https://colab.research.google.com/assets/colab-badge.svg\" alt=\"Open In Colab\"/></a>"
      ]
    },
    {
      "cell_type": "markdown",
      "metadata": {
        "id": "aQuWDmfm9YOi"
      },
      "source": [
        "# Mount Microsft One Drive in Google Colab"
      ]
    },
    {
      "cell_type": "markdown",
      "metadata": {
        "id": "FexiyATtNwTG"
      },
      "source": [
        "###1. Download & Install Latest Setup\n",
        "\n",
        "\n",
        "https://rclone.org/downloads/"
      ]
    },
    {
      "cell_type": "code",
      "metadata": {
        "id": "m6hF0emftx4h",
        "colab": {
          "base_uri": "https://localhost:8080/"
        },
        "outputId": "cb81410e-ea10-413a-bb72-75b8c6fdd0b9"
      },
      "source": [
        "!wget https://downloads.rclone.org/v1.50.1/rclone-v1.50.1-linux-amd64.deb\n",
        "!apt install ./rclone-v1.50.1-linux-amd64.deb"
      ],
      "execution_count": 2,
      "outputs": [
        {
          "output_type": "stream",
          "text": [
            "--2021-05-23 18:52:36--  https://downloads.rclone.org/v1.50.1/rclone-v1.50.1-linux-amd64.deb\n",
            "Resolving downloads.rclone.org (downloads.rclone.org)... 5.153.250.7, 2a02:24e0:8:61f9::1\n",
            "Connecting to downloads.rclone.org (downloads.rclone.org)|5.153.250.7|:443... connected.\n",
            "HTTP request sent, awaiting response... 200 OK\n",
            "Length: 11917114 (11M) [application/x-debian-package]\n",
            "Saving to: ‘rclone-v1.50.1-linux-amd64.deb.1’\n",
            "\n",
            "rclone-v1.50.1-linu 100%[===================>]  11.36M  12.6MB/s    in 0.9s    \n",
            "\n",
            "2021-05-23 18:52:38 (12.6 MB/s) - ‘rclone-v1.50.1-linux-amd64.deb.1’ saved [11917114/11917114]\n",
            "\n",
            "Reading package lists... Done\n",
            "Building dependency tree       \n",
            "Reading state information... Done\n",
            "Note, selecting 'rclone' instead of './rclone-v1.50.1-linux-amd64.deb'\n",
            "rclone is already the newest version (1.50.1).\n",
            "The following package was automatically installed and is no longer required:\n",
            "  libnvidia-common-460\n",
            "Use 'apt autoremove' to remove it.\n",
            "0 upgraded, 0 newly installed, 0 to remove and 34 not upgraded.\n"
          ],
          "name": "stdout"
        }
      ]
    },
    {
      "cell_type": "markdown",
      "metadata": {
        "id": "u6b8Q4EjIowT"
      },
      "source": [
        "### 2. Authenticate One Drive"
      ]
    },
    {
      "cell_type": "code",
      "metadata": {
        "id": "dT1VHtxSIu8g",
        "colab": {
          "base_uri": "https://localhost:8080/"
        },
        "outputId": "2e75b714-d492-4357-e012-b9b44b15abf5"
      },
      "source": [
        "!rclone config"
      ],
      "execution_count": 3,
      "outputs": [
        {
          "output_type": "stream",
          "text": [
            "2021/05/23 18:52:43 NOTICE: Config file \"/root/.config/rclone/rclone.conf\" not found - using defaults\n",
            "No remotes found - make a new one\n",
            "n) New remote\n",
            "s) Set configuration password\n",
            "q) Quit config\n",
            "n/s/q> n\n",
            "name> onedrive\n",
            "Type of storage to configure.\n",
            "Enter a string value. Press Enter for the default (\"\").\n",
            "Choose a number from below, or type in your own value\n",
            "\u001b[91m 1 / 1Fichier\n",
            "   \\ \"fichier\"\n",
            "\u001b[0m\u001b[92m 2 / Alias for an existing remote\n",
            "   \\ \"alias\"\n",
            "\u001b[0m\u001b[91m 3 / Amazon Drive\n",
            "   \\ \"amazon cloud drive\"\n",
            "\u001b[0m\u001b[92m 4 / Amazon S3 Compliant Storage Provider (AWS, Alibaba, Ceph, Digital Ocean, Dreamhost, IBM COS, Minio, etc)\n",
            "   \\ \"s3\"\n",
            "\u001b[0m\u001b[91m 5 / Backblaze B2\n",
            "   \\ \"b2\"\n",
            "\u001b[0m\u001b[92m 6 / Box\n",
            "   \\ \"box\"\n",
            "\u001b[0m\u001b[91m 7 / Cache a remote\n",
            "   \\ \"cache\"\n",
            "\u001b[0m\u001b[92m 8 / Citrix Sharefile\n",
            "   \\ \"sharefile\"\n",
            "\u001b[0m\u001b[91m 9 / Dropbox\n",
            "   \\ \"dropbox\"\n",
            "\u001b[0m\u001b[92m10 / Encrypt/Decrypt a remote\n",
            "   \\ \"crypt\"\n",
            "\u001b[0m\u001b[91m11 / FTP Connection\n",
            "   \\ \"ftp\"\n",
            "\u001b[0m\u001b[92m12 / Google Cloud Storage (this is not Google Drive)\n",
            "   \\ \"google cloud storage\"\n",
            "\u001b[0m\u001b[91m13 / Google Drive\n",
            "   \\ \"drive\"\n",
            "\u001b[0m\u001b[92m14 / Google Photos\n",
            "   \\ \"google photos\"\n",
            "\u001b[0m\u001b[91m15 / Hubic\n",
            "   \\ \"hubic\"\n",
            "\u001b[0m\u001b[92m16 / JottaCloud\n",
            "   \\ \"jottacloud\"\n",
            "\u001b[0m\u001b[91m17 / Koofr\n",
            "   \\ \"koofr\"\n",
            "\u001b[0m\u001b[92m18 / Local Disk\n",
            "   \\ \"local\"\n",
            "\u001b[0m\u001b[91m19 / Mail.ru Cloud\n",
            "   \\ \"mailru\"\n",
            "\u001b[0m\u001b[92m20 / Mega\n",
            "   \\ \"mega\"\n",
            "\u001b[0m\u001b[91m21 / Microsoft Azure Blob Storage\n",
            "   \\ \"azureblob\"\n",
            "\u001b[0m\u001b[92m22 / Microsoft OneDrive\n",
            "   \\ \"onedrive\"\n",
            "\u001b[0m\u001b[91m23 / OpenDrive\n",
            "   \\ \"opendrive\"\n",
            "\u001b[0m\u001b[92m24 / Openstack Swift (Rackspace Cloud Files, Memset Memstore, OVH)\n",
            "   \\ \"swift\"\n",
            "\u001b[0m\u001b[91m25 / Pcloud\n",
            "   \\ \"pcloud\"\n",
            "\u001b[0m\u001b[92m26 / Put.io\n",
            "   \\ \"putio\"\n",
            "\u001b[0m\u001b[91m27 / QingCloud Object Storage\n",
            "   \\ \"qingstor\"\n",
            "\u001b[0m\u001b[92m28 / SSH/SFTP Connection\n",
            "   \\ \"sftp\"\n",
            "\u001b[0m\u001b[91m29 / Transparently chunk/split large files\n",
            "   \\ \"chunker\"\n",
            "\u001b[0m\u001b[92m30 / Union merges the contents of several remotes\n",
            "   \\ \"union\"\n",
            "\u001b[0m\u001b[91m31 / Webdav\n",
            "   \\ \"webdav\"\n",
            "\u001b[0m\u001b[92m32 / Yandex Disk\n",
            "   \\ \"yandex\"\n",
            "\u001b[0m\u001b[91m33 / http Connection\n",
            "   \\ \"http\"\n",
            "\u001b[0m\u001b[92m34 / premiumize.me\n",
            "   \\ \"premiumizeme\"\n",
            "\u001b[0mStorage> 22\n",
            "** See help for onedrive backend at: https://rclone.org/onedrive/ **\n",
            "\n",
            "Microsoft App Client Id\n",
            "Leave blank normally.\n",
            "Enter a string value. Press Enter for the default (\"\").\n",
            "client_id> \n",
            "Microsoft App Client Secret\n",
            "Leave blank normally.\n",
            "Enter a string value. Press Enter for the default (\"\").\n",
            "client_secret> \n",
            "Edit advanced config? (y/n)\n",
            "y) Yes\n",
            "n) No\n",
            "y/n> n\n",
            "Remote config\n",
            "Use auto config?\n",
            " * Say Y if not sure\n",
            " * Say N if you are working on a remote or headless machine\n",
            "y) Yes\n",
            "n) No\n",
            "y/n> n\n",
            "For this to work, you will need rclone available on a machine that has a web browser available.\n",
            "Execute the following on your machine (same rclone version recommended) :\n",
            "\trclone authorize \"onedrive\"\n",
            "Then paste the result below:\n",
            "result> {\"access_token\":\"eyJ0eXAiOiJKV1QiLCJub25jZSI6ImhPZHBSekE4WjVDa2pvNkI0Zmd6dTFkQUdTV0trcERFX1FRRW1DSXR0VkUiLCJhbGciOiJSUzI1NiIsIng1dCI6Im5PbzNaRHJPRFhFSzFqS1doWHNsSFJfS1hFZyIsImtpZCI6Im5PbzNaRHJPRFhFSzFqS1doWHNsSFJfS1hFZyJ9.eyJhdWQiOiIwMDAwMDAwMy0wMDAwLTAwMDAtYzAwMC0wMDAwMDAwMDAwMDAiLCJpc3MiOiJodHRwczovL3N0cy53aW5kb3dzLm5ldC9jYmNlNzhhNS1kOTZlLTQyNWMtYTQ2MC00NmJiNmM5ZTE3ZDQvIiwiaWF0IjoxNjIxNzk1MTk2LCJuYmYiOjE2MjE3OTUxOTYsImV4cCI6MTYyMTc5OTA5NiwiYWNjdCI6MCwiYWNyIjoiMSIsImFjcnMiOlsidXJuOnVzZXI6cmVnaXN0ZXJzZWN1cml0eWluZm8iLCJ1cm46bWljcm9zb2Z0OnJlcTEiLCJ1cm46bWljcm9zb2Z0OnJlcTIiLCJ1cm46bWljcm9zb2Z0OnJlcTMiLCJjMSIsImMyIiwiYzMiLCJjNCIsImM1IiwiYzYiLCJjNyIsImM4IiwiYzkiLCJjMTAiLCJjMTEiLCJjMTIiLCJjMTMiLCJjMTQiLCJjMTUiLCJjMTYiLCJjMTciLCJjMTgiLCJjMTkiLCJjMjAiLCJjMjEiLCJjMjIiLCJjMjMiLCJjMjQiLCJjMjUiXSwiYWlvIjoiRTJaZ1lHanEzbjFZWXJYQnhnMm43ekdxWnpzcWE5d3UzWlhoMDcwOVgvL3ZpdDdvM2hJQSIsImFtciI6WyJwd2QiXSwiYXBwX2Rpc3BsYXluYW1lIjoicmNsb25lIiwiYXBwaWQiOiJiMTU2NjVkOS1lZGE2LTQwOTItODUzOS0wZWVjMzc2YWZkNTkiLCJhcHBpZGFjciI6IjEiLCJmYW1pbHlfbmFtZSI6Ik5ndXllbiIsImdpdmVuX25hbWUiOiJOaGFuIiwiaWR0eXAiOiJ1c2VyIiwiaXBhZGRyIjoiNjQuNzIuMTIwLjIxOCIsIm5hbWUiOiJOaGFuIE5ndXllbiIsIm9pZCI6IjMzYjc2YzhhLThlZGItNGVhZi1hNTYwLWUzODc4ZWYzNzZiYyIsInBsYXRmIjoiNSIsInB1aWQiOiIxMDAzMjAwMTBCMEM4NDYzIiwicmgiOiIwLkFUVUFwWGpPeTI3WlhFS2tZRWE3Yko0WDFObGxWckdtN1pKQWhUa083RGRxX1ZrMUFMcy4iLCJzY3AiOiJGaWxlcy5SZWFkIEZpbGVzLlJlYWQuQWxsIEZpbGVzLlJlYWRXcml0ZSBGaWxlcy5SZWFkV3JpdGUuQWxsIFNpdGVzLlJlYWQuQWxsIHByb2ZpbGUgb3BlbmlkIGVtYWlsIiwic2lnbmluX3N0YXRlIjpbImttc2kiXSwic3ViIjoiRVFDTUYzbk1NQm9jQWNWUERobjZSRVBMVU51TFQyb202ZXBZNWw1R1h3VSIsInRlbmFudF9yZWdpb25fc2NvcGUiOiJOQSIsInRpZCI6ImNiY2U3OGE1LWQ5NmUtNDI1Yy1hNDYwLTQ2YmI2YzllMTdkNCIsInVuaXF1ZV9uYW1lIjoiTmd1eWVuLk5oYW5AaW1hbmlzbGlmZS5jb20iLCJ1cG4iOiJOZ3V5ZW4uTmhhbkBpbWFuaXNsaWZlLmNvbSIsInV0aSI6InZqaWdTOWdrU0UyS1hGNHJtVkE2QUEiLCJ2ZXIiOiIxLjAiLCJ3aWRzIjpbImI3OWZiZjRkLTNlZjktNDY4OS04MTQzLTc2YjE5NGU4NTUwOSJdLCJ4bXNfc3QiOnsic3ViIjoiRnFiX3hTTC12VEZtTDF6bGdqY0s4UVN6MHVmR1J3ZFpvamNucU8tdmRWUSJ9LCJ4bXNfdGNkdCI6MTU1Mzc5NTc0OH0.exm9zcsJWPp06s5GC9nNie-vaLtwVd7eZw0EcpioEe_m31OSElAeXUyHKPMC78Cd_IW2BeR53_pXD-cmjvZYMO00z_3pTVfLV4apQYqpdjZ2QvEvzZaWCmIpvwyJ54LeByGoAll80BRE1J4jGHl4Hs6FBWt5Kfmb6MCeot3G4ZJwf-6aOkIf4_Qg2tAQxiGSPpDJWPFPHaNWN7_Aq5NizQkAr3QL1YWTMNfj3Au2SsSMn5zz1ZnN-VWmwXYstegn3YrYjZGaWeIrHVJG2L3TP9TNoP8BscqjTY7esbcVJq4T76AHBTs_WiFC9Cfv-pXV7ypQGwDsSjFk7sKFocYJzw\",\"token_type\":\"Bearer\",\"refresh_token\":\"0.ATUApXjOy27ZXEKkYEa7bJ4X1NllVrGm7ZJAhTkO7Ddq_Vk1ALs.AgABAAAAAAD--DLA3VO7QrddgJg7WevrAgDs_wQA9P8szoK2xqlBJ0R2a3mJv-0OrAg5pjmua6YoSrKrsEW56rD6kpxsfON9G2iUn1Gl8AqjrmA1aHKIpgNr4WIkOtmb7_bTZd8jkSYO0ieTOJJQx0-aEhgZJE-ye17ZqqVq2yVSzZzszaLBfkYAlTf3XeIMTqjX2ZNMeFmbclHbCJkIQ7w_xthvCFiys8cl6MWvVB3VFiWqG_7_Vvj92h6ALNNFSzZKIbMG8uBZFZqfipKfuz5k9VHK2W2vzj0fjqIlaIt5oOe6sdat7vsLGNYiem90ZefnJiV3RwgIi79Uec4CdDGR2asLlGuuLLpQPXqp3bYvW2QZaIRQ2IZxZls0bmQosNq1EelMTEgK80yQSwNL1nYTDxXnAMFTYqO888x3flrDY7xwoEo4FkrXSrGxPAMtOXM816UXrrkYyIqszTojS5FBfCUa3NddSBSIHN_LM5cdHiy8VmzxUZRKrO1NWmhyWKnOrtW305UtypCbwWw9fM7i-Lvbi3qICInuu8tztrFAg8noFvZEXpO0f93IilGFW3VU9S_C7hUNpq-HsHFy3-Y6SWjjQVOWdOuyTLDQZhm8hyNcSzZL63LeB4XalTQWd4pEFgffftiAVbcaYqY-SZZKTCt09p4s3i_FBclFAhlUMRPI6pGHZZ-i6aSZB8KBnro6Chvi8T_7MEjj7jwJCvOcUEtfcEo3Xvno5IfM0l0vB60teUb6vG8vpLf-TnxXnB2XI8s_AsNf9RqYaj7agsEYvsfpi2hHpC5RTJ6Kz6-AMymJW57dCJdgJzEoG_a4CFLjcIEy8Qv6DJprsMBNdvT49-Q2W3XtTbcupOtO6tLpwfsFxZ9W9S7jZAYWmQqLE1C4NQmEptmKic9mRYC6D2Bi-LCFaDKHDjzc8YvUfDVoR-NZWMC35gmc96h5yoqYtUdtC7zZYyCbSX-usXa0QQ0z8gYUIGDZfJJW\",\"expiry\":\"2021-05-23T14:44:55.022138-05:00\"}\n",
            "Choose a number from below, or type in an existing value\n",
            "\u001b[91m 1 / OneDrive Personal or Business\n",
            "   \\ \"onedrive\"\n",
            "\u001b[0m\u001b[92m 2 / Root Sharepoint site\n",
            "   \\ \"sharepoint\"\n",
            "\u001b[0m\u001b[91m 3 / Type in driveID\n",
            "   \\ \"driveid\"\n",
            "\u001b[0m\u001b[92m 4 / Type in SiteID\n",
            "   \\ \"siteid\"\n",
            "\u001b[0m\u001b[91m 5 / Search a Sharepoint site\n",
            "   \\ \"search\"\n",
            "\u001b[0mYour choice> 1\n",
            "Found 1 drives, please select the one you want to use:\n",
            "0: OneDrive (business) id=b!SwU39caOE0WH9-Y146kziva3Yge5PLpMtwz5ne3BWCIeuxgBvmL_SYHmLCDmmkD4\n",
            "Chose drive to use:> 0\n",
            "Found drive 'root' of type 'business', URL: https://imanislifecom-my.sharepoint.com/personal/nguyen_nhan_imanislife_com/Documents\n",
            "Is that okay?\n",
            "y) Yes\n",
            "n) No\n",
            "y/n> y\n",
            "--------------------\n",
            "[onedrive]\n",
            "type = onedrive\n",
            "token = {\"access_token\":\"eyJ0eXAiOiJKV1QiLCJub25jZSI6ImhPZHBSekE4WjVDa2pvNkI0Zmd6dTFkQUdTV0trcERFX1FRRW1DSXR0VkUiLCJhbGciOiJSUzI1NiIsIng1dCI6Im5PbzNaRHJPRFhFSzFqS1doWHNsSFJfS1hFZyIsImtpZCI6Im5PbzNaRHJPRFhFSzFqS1doWHNsSFJfS1hFZyJ9.eyJhdWQiOiIwMDAwMDAwMy0wMDAwLTAwMDAtYzAwMC0wMDAwMDAwMDAwMDAiLCJpc3MiOiJodHRwczovL3N0cy53aW5kb3dzLm5ldC9jYmNlNzhhNS1kOTZlLTQyNWMtYTQ2MC00NmJiNmM5ZTE3ZDQvIiwiaWF0IjoxNjIxNzk1MTk2LCJuYmYiOjE2MjE3OTUxOTYsImV4cCI6MTYyMTc5OTA5NiwiYWNjdCI6MCwiYWNyIjoiMSIsImFjcnMiOlsidXJuOnVzZXI6cmVnaXN0ZXJzZWN1cml0eWluZm8iLCJ1cm46bWljcm9zb2Z0OnJlcTEiLCJ1cm46bWljcm9zb2Z0OnJlcTIiLCJ1cm46bWljcm9zb2Z0OnJlcTMiLCJjMSIsImMyIiwiYzMiLCJjNCIsImM1IiwiYzYiLCJjNyIsImM4IiwiYzkiLCJjMTAiLCJjMTEiLCJjMTIiLCJjMTMiLCJjMTQiLCJjMTUiLCJjMTYiLCJjMTciLCJjMTgiLCJjMTkiLCJjMjAiLCJjMjEiLCJjMjIiLCJjMjMiLCJjMjQiLCJjMjUiXSwiYWlvIjoiRTJaZ1lHanEzbjFZWXJYQnhnMm43ekdxWnpzcWE5d3UzWlhoMDcwOVgvL3ZpdDdvM2hJQSIsImFtciI6WyJwd2QiXSwiYXBwX2Rpc3BsYXluYW1lIjoicmNsb25lIiwiYXBwaWQiOiJiMTU2NjVkOS1lZGE2LTQwOTItODUzOS0wZWVjMzc2YWZkNTkiLCJhcHBpZGFjciI6IjEiLCJmYW1pbHlfbmFtZSI6Ik5ndXllbiIsImdpdmVuX25hbWUiOiJOaGFuIiwiaWR0eXAiOiJ1c2VyIiwiaXBhZGRyIjoiNjQuNzIuMTIwLjIxOCIsIm5hbWUiOiJOaGFuIE5ndXllbiIsIm9pZCI6IjMzYjc2YzhhLThlZGItNGVhZi1hNTYwLWUzODc4ZWYzNzZiYyIsInBsYXRmIjoiNSIsInB1aWQiOiIxMDAzMjAwMTBCMEM4NDYzIiwicmgiOiIwLkFUVUFwWGpPeTI3WlhFS2tZRWE3Yko0WDFObGxWckdtN1pKQWhUa083RGRxX1ZrMUFMcy4iLCJzY3AiOiJGaWxlcy5SZWFkIEZpbGVzLlJlYWQuQWxsIEZpbGVzLlJlYWRXcml0ZSBGaWxlcy5SZWFkV3JpdGUuQWxsIFNpdGVzLlJlYWQuQWxsIHByb2ZpbGUgb3BlbmlkIGVtYWlsIiwic2lnbmluX3N0YXRlIjpbImttc2kiXSwic3ViIjoiRVFDTUYzbk1NQm9jQWNWUERobjZSRVBMVU51TFQyb202ZXBZNWw1R1h3VSIsInRlbmFudF9yZWdpb25fc2NvcGUiOiJOQSIsInRpZCI6ImNiY2U3OGE1LWQ5NmUtNDI1Yy1hNDYwLTQ2YmI2YzllMTdkNCIsInVuaXF1ZV9uYW1lIjoiTmd1eWVuLk5oYW5AaW1hbmlzbGlmZS5jb20iLCJ1cG4iOiJOZ3V5ZW4uTmhhbkBpbWFuaXNsaWZlLmNvbSIsInV0aSI6InZqaWdTOWdrU0UyS1hGNHJtVkE2QUEiLCJ2ZXIiOiIxLjAiLCJ3aWRzIjpbImI3OWZiZjRkLTNlZjktNDY4OS04MTQzLTc2YjE5NGU4NTUwOSJdLCJ4bXNfc3QiOnsic3ViIjoiRnFiX3hTTC12VEZtTDF6bGdqY0s4UVN6MHVmR1J3ZFpvamNucU8tdmRWUSJ9LCJ4bXNfdGNkdCI6MTU1Mzc5NTc0OH0.exm9zcsJWPp06s5GC9nNie-vaLtwVd7eZw0EcpioEe_m31OSElAeXUyHKPMC78Cd_IW2BeR53_pXD-cmjvZYMO00z_3pTVfLV4apQYqpdjZ2QvEvzZaWCmIpvwyJ54LeByGoAll80BRE1J4jGHl4Hs6FBWt5Kfmb6MCeot3G4ZJwf-6aOkIf4_Qg2tAQxiGSPpDJWPFPHaNWN7_Aq5NizQkAr3QL1YWTMNfj3Au2SsSMn5zz1ZnN-VWmwXYstegn3YrYjZGaWeIrHVJG2L3TP9TNoP8BscqjTY7esbcVJq4T76AHBTs_WiFC9Cfv-pXV7ypQGwDsSjFk7sKFocYJzw\",\"token_type\":\"Bearer\",\"refresh_token\":\"0.ATUApXjOy27ZXEKkYEa7bJ4X1NllVrGm7ZJAhTkO7Ddq_Vk1ALs.AgABAAAAAAD--DLA3VO7QrddgJg7WevrAgDs_wQA9P8szoK2xqlBJ0R2a3mJv-0OrAg5pjmua6YoSrKrsEW56rD6kpxsfON9G2iUn1Gl8AqjrmA1aHKIpgNr4WIkOtmb7_bTZd8jkSYO0ieTOJJQx0-aEhgZJE-ye17ZqqVq2yVSzZzszaLBfkYAlTf3XeIMTqjX2ZNMeFmbclHbCJkIQ7w_xthvCFiys8cl6MWvVB3VFiWqG_7_Vvj92h6ALNNFSzZKIbMG8uBZFZqfipKfuz5k9VHK2W2vzj0fjqIlaIt5oOe6sdat7vsLGNYiem90ZefnJiV3RwgIi79Uec4CdDGR2asLlGuuLLpQPXqp3bYvW2QZaIRQ2IZxZls0bmQosNq1EelMTEgK80yQSwNL1nYTDxXnAMFTYqO888x3flrDY7xwoEo4FkrXSrGxPAMtOXM816UXrrkYyIqszTojS5FBfCUa3NddSBSIHN_LM5cdHiy8VmzxUZRKrO1NWmhyWKnOrtW305UtypCbwWw9fM7i-Lvbi3qICInuu8tztrFAg8noFvZEXpO0f93IilGFW3VU9S_C7hUNpq-HsHFy3-Y6SWjjQVOWdOuyTLDQZhm8hyNcSzZL63LeB4XalTQWd4pEFgffftiAVbcaYqY-SZZKTCt09p4s3i_FBclFAhlUMRPI6pGHZZ-i6aSZB8KBnro6Chvi8T_7MEjj7jwJCvOcUEtfcEo3Xvno5IfM0l0vB60teUb6vG8vpLf-TnxXnB2XI8s_AsNf9RqYaj7agsEYvsfpi2hHpC5RTJ6Kz6-AMymJW57dCJdgJzEoG_a4CFLjcIEy8Qv6DJprsMBNdvT49-Q2W3XtTbcupOtO6tLpwfsFxZ9W9S7jZAYWmQqLE1C4NQmEptmKic9mRYC6D2Bi-LCFaDKHDjzc8YvUfDVoR-NZWMC35gmc96h5yoqYtUdtC7zZYyCbSX-usXa0QQ0z8gYUIGDZfJJW\",\"expiry\":\"2021-05-23T14:44:55.022138-05:00\"}\n",
            "drive_id = b!SwU39caOE0WH9-Y146kziva3Yge5PLpMtwz5ne3BWCIeuxgBvmL_SYHmLCDmmkD4\n",
            "drive_type = business\n",
            "--------------------\n",
            "y) Yes this is OK\n",
            "e) Edit this remote\n",
            "d) Delete this remote\n",
            "y/e/d> y\n",
            "Current remotes:\n",
            "\n",
            "Name                 Type\n",
            "====                 ====\n",
            "onedrive             onedrive\n",
            "\n",
            "e) Edit existing remote\n",
            "n) New remote\n",
            "d) Delete remote\n",
            "r) Rename remote\n",
            "c) Copy remote\n",
            "s) Set configuration password\n",
            "q) Quit config\n",
            "e/n/d/r/c/s/q> q\n"
          ],
          "name": "stdout"
        }
      ]
    },
    {
      "cell_type": "markdown",
      "metadata": {
        "id": "gi5Cx03cLWYE"
      },
      "source": [
        "### 3. Mount One Drive\n",
        "To stream files we need to mount One Drive."
      ]
    },
    {
      "cell_type": "code",
      "metadata": {
        "id": "dWSuoVQ-LU4M",
        "colab": {
          "base_uri": "https://localhost:8080/"
        },
        "outputId": "86f60abf-c338-463b-8cea-902bfebfc1d2"
      },
      "source": [
        "!sudo mkdir /content/onedrive\n",
        "!nohup rclone --vfs-cache-mode writes mount onedrive: /content/onedrive &"
      ],
      "execution_count": 4,
      "outputs": [
        {
          "output_type": "stream",
          "text": [
            "nohup: appending output to 'nohup.out'\n"
          ],
          "name": "stdout"
        }
      ]
    },
    {
      "cell_type": "code",
      "metadata": {
        "id": "FKV7uortk3pL"
      },
      "source": [
        ""
      ],
      "execution_count": null,
      "outputs": []
    }
  ]
}