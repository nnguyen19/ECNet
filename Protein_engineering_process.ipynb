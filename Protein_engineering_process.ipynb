{
  "nbformat": 4,
  "nbformat_minor": 0,
  "metadata": {
    "colab": {
      "name": "Protein_engineering_process.ipynb",
      "provenance": [],
      "collapsed_sections": [],
      "include_colab_link": true
    },
    "kernelspec": {
      "name": "python3",
      "display_name": "Python 3"
    }
  },
  "cells": [
    {
      "cell_type": "markdown",
      "metadata": {
        "id": "view-in-github",
        "colab_type": "text"
      },
      "source": [
        "<a href=\"https://colab.research.google.com/github/nnguyen19/ECNet/blob/main/Protein_engineering_process.ipynb\" target=\"_parent\"><img src=\"https://colab.research.google.com/assets/colab-badge.svg\" alt=\"Open In Colab\"/></a>"
      ]
    },
    {
      "cell_type": "markdown",
      "metadata": {
        "id": "aQuWDmfm9YOi"
      },
      "source": [
        "# Mount Microsft One Drive in Google Colab"
      ]
    },
    {
      "cell_type": "markdown",
      "metadata": {
        "id": "FexiyATtNwTG"
      },
      "source": [
        "###1. Download & Install Latest Setup\n",
        "\n",
        "\n",
        "https://rclone.org/downloads/\n",
        "\n",
        "\n",
        "### in terminal:\n",
        "rclone authorize \"onedrive\""
      ]
    },
    {
      "cell_type": "code",
      "metadata": {
        "id": "m6hF0emftx4h",
        "colab": {
          "base_uri": "https://localhost:8080/"
        },
        "outputId": "2ce7d2d6-1d51-4768-ebe9-978baa564165"
      },
      "source": [
        "!wget https://downloads.rclone.org/v1.55.1/rclone-v1.55.1-linux-amd64.deb\n",
        "!apt install ./rclone-v1.55.1-linux-amd64.deb"
      ],
      "execution_count": 1,
      "outputs": [
        {
          "output_type": "stream",
          "text": [
            "--2021-05-24 20:31:41--  https://downloads.rclone.org/v1.55.1/rclone-v1.55.1-linux-amd64.deb\n",
            "Resolving downloads.rclone.org (downloads.rclone.org)... 5.153.250.7, 2a02:24e0:8:61f9::1\n",
            "Connecting to downloads.rclone.org (downloads.rclone.org)|5.153.250.7|:443... connected.\n",
            "HTTP request sent, awaiting response... 200 OK\n",
            "Length: 14707686 (14M) [application/x-debian-package]\n",
            "Saving to: ‘rclone-v1.55.1-linux-amd64.deb’\n",
            "\n",
            "rclone-v1.55.1-linu 100%[===================>]  14.03M  15.8MB/s    in 0.9s    \n",
            "\n",
            "2021-05-24 20:31:42 (15.8 MB/s) - ‘rclone-v1.55.1-linux-amd64.deb’ saved [14707686/14707686]\n",
            "\n",
            "Reading package lists... Done\n",
            "Building dependency tree       \n",
            "Reading state information... Done\n",
            "Note, selecting 'rclone' instead of './rclone-v1.55.1-linux-amd64.deb'\n",
            "The following package was automatically installed and is no longer required:\n",
            "  libnvidia-common-460\n",
            "Use 'apt autoremove' to remove it.\n",
            "The following NEW packages will be installed:\n",
            "  rclone\n",
            "0 upgraded, 1 newly installed, 0 to remove and 34 not upgraded.\n",
            "Need to get 0 B/14.7 MB of archives.\n",
            "After this operation, 47.1 MB of additional disk space will be used.\n",
            "Get:1 /content/rclone-v1.55.1-linux-amd64.deb rclone amd64 1.55.1 [14.7 MB]\n",
            "Selecting previously unselected package rclone.\n",
            "(Reading database ... 160706 files and directories currently installed.)\n",
            "Preparing to unpack .../rclone-v1.55.1-linux-amd64.deb ...\n",
            "Unpacking rclone (1.55.1) ...\n",
            "Setting up rclone (1.55.1) ...\n",
            "Processing triggers for man-db (2.8.3-2ubuntu0.1) ...\n"
          ],
          "name": "stdout"
        }
      ]
    },
    {
      "cell_type": "markdown",
      "metadata": {
        "id": "u6b8Q4EjIowT"
      },
      "source": [
        "### 2. Authenticate One Drive"
      ]
    },
    {
      "cell_type": "code",
      "metadata": {
        "id": "dT1VHtxSIu8g",
        "colab": {
          "base_uri": "https://localhost:8080/"
        },
        "outputId": "faa99b20-5e20-4cde-d53e-a5278db7665b"
      },
      "source": [
        "!rclone config"
      ],
      "execution_count": 2,
      "outputs": [
        {
          "output_type": "stream",
          "text": [
            "2021/05/24 20:31:49 NOTICE: Config file \"/root/.config/rclone/rclone.conf\" not found - using defaults\n",
            "No remotes found - make a new one\n",
            "n) New remote\n",
            "s) Set configuration password\n",
            "q) Quit config\n",
            "n/s/q> n\n",
            "name> onedrive\n",
            "Type of storage to configure.\n",
            "Enter a string value. Press Enter for the default (\"\").\n",
            "Choose a number from below, or type in your own value\n",
            "\u001b[91m 1 / 1Fichier\n",
            "   \\ \"fichier\"\n",
            "\u001b[0m\u001b[92m 2 / Alias for an existing remote\n",
            "   \\ \"alias\"\n",
            "\u001b[0m\u001b[91m 3 / Amazon Drive\n",
            "   \\ \"amazon cloud drive\"\n",
            "\u001b[0m\u001b[92m 4 / Amazon S3 Compliant Storage Providers including AWS, Alibaba, Ceph, Digital Ocean, Dreamhost, IBM COS, Minio, and Tencent COS\n",
            "   \\ \"s3\"\n",
            "\u001b[0m\u001b[91m 5 / Backblaze B2\n",
            "   \\ \"b2\"\n",
            "\u001b[0m\u001b[92m 6 / Box\n",
            "   \\ \"box\"\n",
            "\u001b[0m\u001b[91m 7 / Cache a remote\n",
            "   \\ \"cache\"\n",
            "\u001b[0m\u001b[92m 8 / Citrix Sharefile\n",
            "   \\ \"sharefile\"\n",
            "\u001b[0m\u001b[91m 9 / Compress a remote\n",
            "   \\ \"compress\"\n",
            "\u001b[0m\u001b[92m10 / Dropbox\n",
            "   \\ \"dropbox\"\n",
            "\u001b[0m\u001b[91m11 / Encrypt/Decrypt a remote\n",
            "   \\ \"crypt\"\n",
            "\u001b[0m\u001b[92m12 / Enterprise File Fabric\n",
            "   \\ \"filefabric\"\n",
            "\u001b[0m\u001b[91m13 / FTP Connection\n",
            "   \\ \"ftp\"\n",
            "\u001b[0m\u001b[92m14 / Google Cloud Storage (this is not Google Drive)\n",
            "   \\ \"google cloud storage\"\n",
            "\u001b[0m\u001b[91m15 / Google Drive\n",
            "   \\ \"drive\"\n",
            "\u001b[0m\u001b[92m16 / Google Photos\n",
            "   \\ \"google photos\"\n",
            "\u001b[0m\u001b[91m17 / Hadoop distributed file system\n",
            "   \\ \"hdfs\"\n",
            "\u001b[0m\u001b[92m18 / Hubic\n",
            "   \\ \"hubic\"\n",
            "\u001b[0m\u001b[91m19 / In memory object storage system.\n",
            "   \\ \"memory\"\n",
            "\u001b[0m\u001b[92m20 / Jottacloud\n",
            "   \\ \"jottacloud\"\n",
            "\u001b[0m\u001b[91m21 / Koofr\n",
            "   \\ \"koofr\"\n",
            "\u001b[0m\u001b[92m22 / Local Disk\n",
            "   \\ \"local\"\n",
            "\u001b[0m\u001b[91m23 / Mail.ru Cloud\n",
            "   \\ \"mailru\"\n",
            "\u001b[0m\u001b[92m24 / Mega\n",
            "   \\ \"mega\"\n",
            "\u001b[0m\u001b[91m25 / Microsoft Azure Blob Storage\n",
            "   \\ \"azureblob\"\n",
            "\u001b[0m\u001b[92m26 / Microsoft OneDrive\n",
            "   \\ \"onedrive\"\n",
            "\u001b[0m\u001b[91m27 / OpenDrive\n",
            "   \\ \"opendrive\"\n",
            "\u001b[0m\u001b[92m28 / OpenStack Swift (Rackspace Cloud Files, Memset Memstore, OVH)\n",
            "   \\ \"swift\"\n",
            "\u001b[0m\u001b[91m29 / Pcloud\n",
            "   \\ \"pcloud\"\n",
            "\u001b[0m\u001b[92m30 / Put.io\n",
            "   \\ \"putio\"\n",
            "\u001b[0m\u001b[91m31 / QingCloud Object Storage\n",
            "   \\ \"qingstor\"\n",
            "\u001b[0m\u001b[92m32 / SSH/SFTP Connection\n",
            "   \\ \"sftp\"\n",
            "\u001b[0m\u001b[91m33 / Sugarsync\n",
            "   \\ \"sugarsync\"\n",
            "\u001b[0m\u001b[92m34 / Tardigrade Decentralized Cloud Storage\n",
            "   \\ \"tardigrade\"\n",
            "\u001b[0m\u001b[91m35 / Transparently chunk/split large files\n",
            "   \\ \"chunker\"\n",
            "\u001b[0m\u001b[92m36 / Union merges the contents of several upstream fs\n",
            "   \\ \"union\"\n",
            "\u001b[0m\u001b[91m37 / Webdav\n",
            "   \\ \"webdav\"\n",
            "\u001b[0m\u001b[92m38 / Yandex Disk\n",
            "   \\ \"yandex\"\n",
            "\u001b[0m\u001b[91m39 / Zoho\n",
            "   \\ \"zoho\"\n",
            "\u001b[0m\u001b[92m40 / http Connection\n",
            "   \\ \"http\"\n",
            "\u001b[0m\u001b[91m41 / premiumize.me\n",
            "   \\ \"premiumizeme\"\n",
            "\u001b[0m\u001b[92m42 / seafile\n",
            "   \\ \"seafile\"\n",
            "\u001b[0mStorage> 26\n",
            "** See help for onedrive backend at: https://rclone.org/onedrive/ **\n",
            "\n",
            "OAuth Client Id\n",
            "Leave blank normally.\n",
            "Enter a string value. Press Enter for the default (\"\").\n",
            "client_id> \n",
            "OAuth Client Secret\n",
            "Leave blank normally.\n",
            "Enter a string value. Press Enter for the default (\"\").\n",
            "client_secret> \n",
            "Choose national cloud region for OneDrive.\n",
            "Enter a string value. Press Enter for the default (\"global\").\n",
            "Choose a number from below, or type in your own value\n",
            "\u001b[91m 1 / Microsoft Cloud Global\n",
            "   \\ \"global\"\n",
            "\u001b[0m\u001b[92m 2 / Microsoft Cloud for US Government\n",
            "   \\ \"us\"\n",
            "\u001b[0m\u001b[91m 3 / Microsoft Cloud Germany\n",
            "   \\ \"de\"\n",
            "\u001b[0m\u001b[92m 4 / Azure and Office 365 operated by 21Vianet in China\n",
            "   \\ \"cn\"\n",
            "\u001b[0mregion> 2\n",
            "Edit advanced config? (y/n)\n",
            "y) Yes\n",
            "n) No (default)\n",
            "y/n> n\n",
            "Remote config\n",
            "Use auto config?\n",
            " * Say Y if not sure\n",
            " * Say N if you are working on a remote or headless machine\n",
            "y) Yes (default)\n",
            "n) No\n",
            "y/n> n\n",
            "For this to work, you will need rclone available on a machine that has\n",
            "a web browser available.\n",
            "\n",
            "For more help and alternate methods see: https://rclone.org/remote_setup/\n",
            "\n",
            "Execute the following on the machine with the web browser (same rclone\n",
            "version recommended):\n",
            "\n",
            "\trclone authorize \"onedrive\"\n",
            "\n",
            "Then paste the result below:\n",
            "result> {\"access_token\":\"eyJ0eXAiOiJKV1QiLCJub25jZSI6InduYjA5QlRfbjUzajhWVHpaSkNkdEVLcUhrYVhGU1FpckdsWjJyQzgtQ3ciLCJhbGciOiJSUzI1NiIsIng1dCI6Im5PbzNaRHJPRFhFSzFqS1doWHNsSFJfS1hFZyIsImtpZCI6Im5PbzNaRHJPRFhFSzFqS1doWHNsSFJfS1hFZyJ9.eyJhdWQiOiIwMDAwMDAwMy0wMDAwLTAwMDAtYzAwMC0wMDAwMDAwMDAwMDAiLCJpc3MiOiJodHRwczovL3N0cy53aW5kb3dzLm5ldC9jYmNlNzhhNS1kOTZlLTQyNWMtYTQ2MC00NmJiNmM5ZTE3ZDQvIiwiaWF0IjoxNjIxODg4MDA2LCJuYmYiOjE2MjE4ODgwMDYsImV4cCI6MTYyMTg5MTkwNiwiYWNjdCI6MCwiYWNyIjoiMSIsImFjcnMiOlsidXJuOnVzZXI6cmVnaXN0ZXJzZWN1cml0eWluZm8iLCJ1cm46bWljcm9zb2Z0OnJlcTEiLCJ1cm46bWljcm9zb2Z0OnJlcTIiLCJ1cm46bWljcm9zb2Z0OnJlcTMiLCJjMSIsImMyIiwiYzMiLCJjNCIsImM1IiwiYzYiLCJjNyIsImM4IiwiYzkiLCJjMTAiLCJjMTEiLCJjMTIiLCJjMTMiLCJjMTQiLCJjMTUiLCJjMTYiLCJjMTciLCJjMTgiLCJjMTkiLCJjMjAiLCJjMjEiLCJjMjIiLCJjMjMiLCJjMjQiLCJjMjUiXSwiYWlvIjoiRTJaZ1lHaFpWakZ0bldpdFVuaHY5bi83cTNmdkN2Y3NGaTN5bHowaHduV0F5ZXdseTBrQSIsImFtciI6WyJwd2QiXSwiYXBwX2Rpc3BsYXluYW1lIjoicmNsb25lIiwiYXBwaWQiOiJiMTU2NjVkOS1lZGE2LTQwOTItODUzOS0wZWVjMzc2YWZkNTkiLCJhcHBpZGFjciI6IjEiLCJmYW1pbHlfbmFtZSI6Ik5ndXllbiIsImdpdmVuX25hbWUiOiJOaGFuIiwiaWR0eXAiOiJ1c2VyIiwiaXBhZGRyIjoiMjA5LjE3MC4yMzguNzgiLCJuYW1lIjoiTmhhbiBOZ3V5ZW4iLCJvaWQiOiIzM2I3NmM4YS04ZWRiLTRlYWYtYTU2MC1lMzg3OGVmMzc2YmMiLCJwbGF0ZiI6IjUiLCJwdWlkIjoiMTAwMzIwMDEwQjBDODQ2MyIsInJoIjoiMC5BVFVBcFhqT3kyN1pYRUtrWUVhN2JKNFgxTmxsVnJHbTdaSkFoVGtPN0RkcV9WazFBTHMuIiwic2NwIjoiRmlsZXMuUmVhZCBGaWxlcy5SZWFkLkFsbCBGaWxlcy5SZWFkV3JpdGUgRmlsZXMuUmVhZFdyaXRlLkFsbCBTaXRlcy5SZWFkLkFsbCBwcm9maWxlIG9wZW5pZCBlbWFpbCIsInNpZ25pbl9zdGF0ZSI6WyJrbXNpIl0sInN1YiI6IkVRQ01GM25NTUJvY0FjVlBEaG42UkVQTFVOdUxUMm9tNmVwWTVsNUdYd1UiLCJ0ZW5hbnRfcmVnaW9uX3Njb3BlIjoiTkEiLCJ0aWQiOiJjYmNlNzhhNS1kOTZlLTQyNWMtYTQ2MC00NmJiNmM5ZTE3ZDQiLCJ1bmlxdWVfbmFtZSI6Ik5ndXllbi5OaGFuQGltYW5pc2xpZmUuY29tIiwidXBuIjoiTmd1eWVuLk5oYW5AaW1hbmlzbGlmZS5jb20iLCJ1dGkiOiJKVnlWcEJwMXIwYXk1X0FuNEk1ZEFBIiwidmVyIjoiMS4wIiwid2lkcyI6WyJiNzlmYmY0ZC0zZWY5LTQ2ODktODE0My03NmIxOTRlODU1MDkiXSwieG1zX3N0Ijp7InN1YiI6IkZxYl94U0wtdlRGbUwxemxnamNLOFFTejB1ZkdSd2Rab2pjbnFPLXZkVlEifSwieG1zX3RjZHQiOjE1NTM3OTU3NDh9.JEg-ePG6RqnEFEY2KAUYed72ZQ5DrHXogEdVn7HELBMC4nV03KsOJw4a9ub4sfTGkmdcidvktq6Lt_Z7GZs9e5gMfEDVyHPZVYophfmfMgl6jH3MTNhOsyEJrUmzGqab1LcAZpq6r6DJPr13ocOig2Cfll0AHD0gDlCiu0XTc8RmtQptPAdV5Oy-7pCmpKAFKPSkKYN3w2mFXaFFJjvEuVDdbBPdwV8gH4h4RUwb-2i3VEtO8rnyYsP5OzxZ1z3H20IMqaMrWsnW9_0F4L2_v1wFdty8VTLGspvHbLq1l0Xfejb8BzbpIr53qPHKJhbjA6-Zqon1xG33A1_Fsb_2Zw\",\"token_type\":\"Bearer\",\"refresh_token\":\"0.ATUApXjOy27ZXEKkYEa7bJ4X1NllVrGm7ZJAhTkO7Ddq_Vk1ALs.AgABAAAAAAD--DLA3VO7QrddgJg7WevrAgDs_wQA9P8TImbDZPT6JN6xd16tKpw8CgHS7aWGPteBNcuhd_chFz_JMiIG6AT2O2O2M5ixYkXmkL3879jwHtbl7hE8Zl6Reoj2-i3GFPo9ex-A3InKmhZnkDAEmfSIGqv8S2VxEBbEcAA-EpdZC1tzPWuYIFrx3LgsylaEsyAaaqFgCfptySm4ddHvH20LTzPn6Z3V9yAGsMQ40oKqzJ4Q902wLg1k0oey6Xzt2syEw__2ciX6zlIeaojW2ZTkpaNJGJwUhSh48fs1wb1NlYkIWu81Ij77nwJGYUuuGdzMw8Kwa5B1PjFZXl8AQg49Slst_H_2dlDHVhnHPrxtZa9U6EoO_I9ywg2ovCWU21QmwfuNE2flIQZ92cT0J29PzmDDTbTzjcr0NRron_I2_C85UUua6Kv5QwJz2kPanINef5lOqY-QG9LZFHI47Iz8a0xAdGAWWUtdHUFGsvnDVLAp3dp_BKL17Dbs5MK9JRQXwJZ_LnO0F-BleT1Gr89LoaU0aKTcdYn827zSok2Lh6DOrxfN0Z1TVft1W7w63VtSA5j-l8SpydYyyZPH5TTGKY0l313ndTZ97mQVvTfneQVzP1ATvM6I8n2L5wxSYoQCRtaWnYIOgUxJZvEcCyWRr1YvPF02QLz-LAlUV5OsaJTh7Wsn5JXNti4KO1x-OyKrZCkB2cKfD1Wli2Z6W8NP8FEbU0A6rMwfaER4LzMGc6f9qrALcp8HIkwuRcoqhbbOICTsTMBU4O-0aL0CdFEZCsWNSkJ1koC67ZwejmkZFat5IThUulPH7vLXF-fqhCq3Kb_a2MzecsVzT_IvLpjrGJAyLYubdFxJy4KE0IsbLUwtBTcHsguJUZyx9-LyVNoYiBN04wohUj5l6QRrTI-C7Q7MXM71PQCqA6Gp_JKpfKKUdfXJow00PaGjWxpNBRw7rLoOovJwi0W8k8ZsELifP9tGKw\",\"expiry\":\"2021-05-24T16:31:46.110909-05:00\"}\n",
            "Choose a number from below, or type in an existing value\n",
            "\u001b[91m 1 / OneDrive Personal or Business\n",
            "   \\ \"onedrive\"\n",
            "\u001b[0m\u001b[92m 2 / Root Sharepoint site\n",
            "   \\ \"sharepoint\"\n",
            "\u001b[0m\u001b[91m 3 / Sharepoint site name or URL (e.g. mysite or https://contoso.sharepoint.com/sites/mysite)\n",
            "   \\ \"url\"\n",
            "\u001b[0m\u001b[92m 4 / Search for a Sharepoint site\n",
            "   \\ \"search\"\n",
            "\u001b[0m\u001b[91m 5 / Type in driveID (advanced)\n",
            "   \\ \"driveid\"\n",
            "\u001b[0m\u001b[92m 6 / Type in SiteID (advanced)\n",
            "   \\ \"siteid\"\n",
            "\u001b[0m\u001b[91m 7 / Sharepoint server-relative path (advanced, e.g. /teams/hr)\n",
            "   \\ \"path\"\n",
            "\u001b[0mYour choice> 1\n",
            "Found 1 drives, please select the one you want to use:\n",
            "0: OneDrive (business) id=b!SwU39caOE0WH9-Y146kziva3Yge5PLpMtwz5ne3BWCIeuxgBvmL_SYHmLCDmmkD4\n",
            "Chose drive to use:> 0\n",
            "Found drive 'root' of type 'business', URL: https://imanislifecom-my.sharepoint.com/personal/nguyen_nhan_imanislife_com/Documents\n",
            "Is that okay?\n",
            "y) Yes (default)\n",
            "n) No\n",
            "y/n> y\n",
            "--------------------\n",
            "[onedrive]\n",
            "type = onedrive\n",
            "region = us\n",
            "token = {\"access_token\":\"eyJ0eXAiOiJKV1QiLCJub25jZSI6InduYjA5QlRfbjUzajhWVHpaSkNkdEVLcUhrYVhGU1FpckdsWjJyQzgtQ3ciLCJhbGciOiJSUzI1NiIsIng1dCI6Im5PbzNaRHJPRFhFSzFqS1doWHNsSFJfS1hFZyIsImtpZCI6Im5PbzNaRHJPRFhFSzFqS1doWHNsSFJfS1hFZyJ9.eyJhdWQiOiIwMDAwMDAwMy0wMDAwLTAwMDAtYzAwMC0wMDAwMDAwMDAwMDAiLCJpc3MiOiJodHRwczovL3N0cy53aW5kb3dzLm5ldC9jYmNlNzhhNS1kOTZlLTQyNWMtYTQ2MC00NmJiNmM5ZTE3ZDQvIiwiaWF0IjoxNjIxODg4MDA2LCJuYmYiOjE2MjE4ODgwMDYsImV4cCI6MTYyMTg5MTkwNiwiYWNjdCI6MCwiYWNyIjoiMSIsImFjcnMiOlsidXJuOnVzZXI6cmVnaXN0ZXJzZWN1cml0eWluZm8iLCJ1cm46bWljcm9zb2Z0OnJlcTEiLCJ1cm46bWljcm9zb2Z0OnJlcTIiLCJ1cm46bWljcm9zb2Z0OnJlcTMiLCJjMSIsImMyIiwiYzMiLCJjNCIsImM1IiwiYzYiLCJjNyIsImM4IiwiYzkiLCJjMTAiLCJjMTEiLCJjMTIiLCJjMTMiLCJjMTQiLCJjMTUiLCJjMTYiLCJjMTciLCJjMTgiLCJjMTkiLCJjMjAiLCJjMjEiLCJjMjIiLCJjMjMiLCJjMjQiLCJjMjUiXSwiYWlvIjoiRTJaZ1lHaFpWakZ0bldpdFVuaHY5bi83cTNmdkN2Y3NGaTN5bHowaHduV0F5ZXdseTBrQSIsImFtciI6WyJwd2QiXSwiYXBwX2Rpc3BsYXluYW1lIjoicmNsb25lIiwiYXBwaWQiOiJiMTU2NjVkOS1lZGE2LTQwOTItODUzOS0wZWVjMzc2YWZkNTkiLCJhcHBpZGFjciI6IjEiLCJmYW1pbHlfbmFtZSI6Ik5ndXllbiIsImdpdmVuX25hbWUiOiJOaGFuIiwiaWR0eXAiOiJ1c2VyIiwiaXBhZGRyIjoiMjA5LjE3MC4yMzguNzgiLCJuYW1lIjoiTmhhbiBOZ3V5ZW4iLCJvaWQiOiIzM2I3NmM4YS04ZWRiLTRlYWYtYTU2MC1lMzg3OGVmMzc2YmMiLCJwbGF0ZiI6IjUiLCJwdWlkIjoiMTAwMzIwMDEwQjBDODQ2MyIsInJoIjoiMC5BVFVBcFhqT3kyN1pYRUtrWUVhN2JKNFgxTmxsVnJHbTdaSkFoVGtPN0RkcV9WazFBTHMuIiwic2NwIjoiRmlsZXMuUmVhZCBGaWxlcy5SZWFkLkFsbCBGaWxlcy5SZWFkV3JpdGUgRmlsZXMuUmVhZFdyaXRlLkFsbCBTaXRlcy5SZWFkLkFsbCBwcm9maWxlIG9wZW5pZCBlbWFpbCIsInNpZ25pbl9zdGF0ZSI6WyJrbXNpIl0sInN1YiI6IkVRQ01GM25NTUJvY0FjVlBEaG42UkVQTFVOdUxUMm9tNmVwWTVsNUdYd1UiLCJ0ZW5hbnRfcmVnaW9uX3Njb3BlIjoiTkEiLCJ0aWQiOiJjYmNlNzhhNS1kOTZlLTQyNWMtYTQ2MC00NmJiNmM5ZTE3ZDQiLCJ1bmlxdWVfbmFtZSI6Ik5ndXllbi5OaGFuQGltYW5pc2xpZmUuY29tIiwidXBuIjoiTmd1eWVuLk5oYW5AaW1hbmlzbGlmZS5jb20iLCJ1dGkiOiJKVnlWcEJwMXIwYXk1X0FuNEk1ZEFBIiwidmVyIjoiMS4wIiwid2lkcyI6WyJiNzlmYmY0ZC0zZWY5LTQ2ODktODE0My03NmIxOTRlODU1MDkiXSwieG1zX3N0Ijp7InN1YiI6IkZxYl94U0wtdlRGbUwxemxnamNLOFFTejB1ZkdSd2Rab2pjbnFPLXZkVlEifSwieG1zX3RjZHQiOjE1NTM3OTU3NDh9.JEg-ePG6RqnEFEY2KAUYed72ZQ5DrHXogEdVn7HELBMC4nV03KsOJw4a9ub4sfTGkmdcidvktq6Lt_Z7GZs9e5gMfEDVyHPZVYophfmfMgl6jH3MTNhOsyEJrUmzGqab1LcAZpq6r6DJPr13ocOig2Cfll0AHD0gDlCiu0XTc8RmtQptPAdV5Oy-7pCmpKAFKPSkKYN3w2mFXaFFJjvEuVDdbBPdwV8gH4h4RUwb-2i3VEtO8rnyYsP5OzxZ1z3H20IMqaMrWsnW9_0F4L2_v1wFdty8VTLGspvHbLq1l0Xfejb8BzbpIr53qPHKJhbjA6-Zqon1xG33A1_Fsb_2Zw\",\"token_type\":\"Bearer\",\"refresh_token\":\"0.ATUApXjOy27ZXEKkYEa7bJ4X1NllVrGm7ZJAhTkO7Ddq_Vk1ALs.AgABAAAAAAD--DLA3VO7QrddgJg7WevrAgDs_wQA9P8TImbDZPT6JN6xd16tKpw8CgHS7aWGPteBNcuhd_chFz_JMiIG6AT2O2O2M5ixYkXmkL3879jwHtbl7hE8Zl6Reoj2-i3GFPo9ex-A3InKmhZnkDAEmfSIGqv8S2VxEBbEcAA-EpdZC1tzPWuYIFrx3LgsylaEsyAaaqFgCfptySm4ddHvH20LTzPn6Z3V9yAGsMQ40oKqzJ4Q902wLg1k0oey6Xzt2syEw__2ciX6zlIeaojW2ZTkpaNJGJwUhSh48fs1wb1NlYkIWu81Ij77nwJGYUuuGdzMw8Kwa5B1PjFZXl8AQg49Slst_H_2dlDHVhnHPrxtZa9U6EoO_I9ywg2ovCWU21QmwfuNE2flIQZ92cT0J29PzmDDTbTzjcr0NRron_I2_C85UUua6Kv5QwJz2kPanINef5lOqY-QG9LZFHI47Iz8a0xAdGAWWUtdHUFGsvnDVLAp3dp_BKL17Dbs5MK9JRQXwJZ_LnO0F-BleT1Gr89LoaU0aKTcdYn827zSok2Lh6DOrxfN0Z1TVft1W7w63VtSA5j-l8SpydYyyZPH5TTGKY0l313ndTZ97mQVvTfneQVzP1ATvM6I8n2L5wxSYoQCRtaWnYIOgUxJZvEcCyWRr1YvPF02QLz-LAlUV5OsaJTh7Wsn5JXNti4KO1x-OyKrZCkB2cKfD1Wli2Z6W8NP8FEbU0A6rMwfaER4LzMGc6f9qrALcp8HIkwuRcoqhbbOICTsTMBU4O-0aL0CdFEZCsWNSkJ1koC67ZwejmkZFat5IThUulPH7vLXF-fqhCq3Kb_a2MzecsVzT_IvLpjrGJAyLYubdFxJy4KE0IsbLUwtBTcHsguJUZyx9-LyVNoYiBN04wohUj5l6QRrTI-C7Q7MXM71PQCqA6Gp_JKpfKKUdfXJow00PaGjWxpNBRw7rLoOovJwi0W8k8ZsELifP9tGKw\",\"expiry\":\"2021-05-24T16:31:46.110909-05:00\"}\n",
            "drive_id = b!SwU39caOE0WH9-Y146kziva3Yge5PLpMtwz5ne3BWCIeuxgBvmL_SYHmLCDmmkD4\n",
            "drive_type = business\n",
            "--------------------\n",
            "y) Yes this is OK (default)\n",
            "e) Edit this remote\n",
            "d) Delete this remote\n",
            "y/e/d> y\n",
            "Current remotes:\n",
            "\n",
            "Name                 Type\n",
            "====                 ====\n",
            "onedrive             onedrive\n",
            "\n",
            "e) Edit existing remote\n",
            "n) New remote\n",
            "d) Delete remote\n",
            "r) Rename remote\n",
            "c) Copy remote\n",
            "s) Set configuration password\n",
            "q) Quit config\n",
            "e/n/d/r/c/s/q> q\n"
          ],
          "name": "stdout"
        }
      ]
    },
    {
      "cell_type": "markdown",
      "metadata": {
        "id": "gi5Cx03cLWYE"
      },
      "source": [
        "### 3. Mount One Drive\n",
        "To stream files we need to mount One Drive."
      ]
    },
    {
      "cell_type": "code",
      "metadata": {
        "id": "dWSuoVQ-LU4M",
        "colab": {
          "base_uri": "https://localhost:8080/"
        },
        "outputId": "e37c8bb2-b39f-486e-cf84-0e24c8bfa100"
      },
      "source": [
        "#!sudo mkdir /content/onedrive\n",
        "#!nohup rclone --vfs-cache-mode writes mount onedrive: /content/nnguyen19 &\n",
        "\n",
        "!nohup rclone --vfs-cache-mode writes mount onedrive: /content/onedrive &"
      ],
      "execution_count": 7,
      "outputs": [
        {
          "output_type": "stream",
          "text": [
            "nohup: appending output to 'nohup.out'\n"
          ],
          "name": "stdout"
        }
      ]
    },
    {
      "cell_type": "code",
      "metadata": {
        "id": "FKV7uortk3pL",
        "colab": {
          "base_uri": "https://localhost:8080/"
        },
        "outputId": "3e02aeab-bd3e-4d67-f422-d3cb74188403"
      },
      "source": [
        "%cd /content/onedrive/\n"
      ],
      "execution_count": 9,
      "outputs": [
        {
          "output_type": "stream",
          "text": [
            "/content/onedrive\n"
          ],
          "name": "stdout"
        }
      ]
    },
    {
      "cell_type": "code",
      "metadata": {
        "id": "utgJVPWNCIY8",
        "colab": {
          "base_uri": "https://localhost:8080/"
        },
        "outputId": "f60d8b55-85d1-4261-9138-4ba17195d21e"
      },
      "source": [
        "%ls"
      ],
      "execution_count": 10,
      "outputs": [
        {
          "output_type": "stream",
          "text": [
            " \u001b[0m\u001b[01;34mAttachments\u001b[0m/\n",
            "'Gregory N. Stephanopoulos, Aristos A. Aristidou, Jens Nielsen - Metabolic Engineering_ Principles and Methodologies-Academic Press (1998).pdf'\n",
            " \u001b[01;34mimanis-hr-paperwork\u001b[0m/\n",
            " \u001b[01;34mproteinE\u001b[0m/\n",
            " \u001b[01;34mprotocols\u001b[0m/\n",
            "\u001b[01;34m'R&D Nhan Nguyen'\u001b[0m/\n",
            " \u001b[01;34mRis-math\u001b[0m/\n",
            " \u001b[01;34msafety-procedures\u001b[0m/\n",
            " \u001b[01;34mseminar-recording\u001b[0m/\n",
            " test.txt\n",
            " \u001b[01;34mtryme_nn\u001b[0m/\n",
            "'UNITEDHEALTHCARE CHOICE PLUS HDHP 1500.docx'\n",
            " \u001b[01;34mWyzant\u001b[0m/\n"
          ],
          "name": "stdout"
        }
      ]
    },
    {
      "cell_type": "markdown",
      "metadata": {
        "id": "0IZea-4umL_I"
      },
      "source": [
        "4. Protein database download\n",
        "\n",
        "upload 'download_proteins.sh' script"
      ]
    },
    {
      "cell_type": "code",
      "metadata": {
        "id": "pTA92mHilJjS",
        "colab": {
          "base_uri": "https://localhost:8080/"
        },
        "outputId": "47204af7-6862-4fcb-97aa-8e2fe36b70b1"
      },
      "source": [
        "!bash /content/download_proteins.sh"
      ],
      "execution_count": 8,
      "outputs": [
        {
          "output_type": "stream",
          "text": [
            "--2021-05-24 20:47:20--  http://s3.amazonaws.com/proteindata/data_pytorch/pfam.tar.gz\n",
            "Resolving s3.amazonaws.com (s3.amazonaws.com)... 54.231.33.130\n",
            "Connecting to s3.amazonaws.com (s3.amazonaws.com)|54.231.33.130|:80... connected.\n",
            "HTTP request sent, awaiting response... 200 OK\n",
            "Length: 8244474481 (7.7G) [application/x-tar]\n",
            "Saving to: ‘pfam.tar.gz’\n",
            "\n",
            "pfam.tar.gz         100%[===================>]   7.68G  54.3MB/s    in 2m 28s  \n",
            "\n",
            "2021-05-24 20:49:47 (53.3 MB/s) - ‘pfam.tar.gz’ saved [8244474481/8244474481]\n",
            "\n",
            "tar: data: Cannot open: No such file or directory\n",
            "tar: Error is not recoverable: exiting now\n",
            "--2021-05-24 20:49:48--  http://s3.amazonaws.com/proteindata/data_pytorch/pfam.model\n",
            "Resolving s3.amazonaws.com (s3.amazonaws.com)... 52.217.15.14\n",
            "Connecting to s3.amazonaws.com (s3.amazonaws.com)|52.217.15.14|:80... connected.\n",
            "HTTP request sent, awaiting response... 200 OK\n",
            "Length: 337945 (330K) [binary/octet-stream]\n",
            "Saving to: ‘pfam.model’\n",
            "\n",
            "pfam.model          100%[===================>] 330.02K  --.-KB/s    in 0.02s   \n",
            "\n",
            "2021-05-24 20:49:48 (18.8 MB/s) - ‘pfam.model’ saved [337945/337945]\n",
            "\n",
            "--2021-05-24 20:49:48--  http://s3.amazonaws.com/proteindata/data_pytorch/pfam.vocab\n",
            "Resolving s3.amazonaws.com (s3.amazonaws.com)... 52.217.103.174\n",
            "Connecting to s3.amazonaws.com (s3.amazonaws.com)|52.217.103.174|:80... connected.\n",
            "HTTP request sent, awaiting response... 200 OK\n",
            "Length: 83158 (81K) [binary/octet-stream]\n",
            "Saving to: ‘pfam.vocab’\n",
            "\n",
            "pfam.vocab          100%[===================>]  81.21K  --.-KB/s    in 0.005s  \n",
            "\n",
            "2021-05-24 20:49:49 (15.9 MB/s) - ‘pfam.vocab’ saved [83158/83158]\n",
            "\n",
            "--2021-05-24 20:49:49--  http://s3.amazonaws.com/proteindata/data_pytorch/secondary_structure.tar.gz\n",
            "Resolving s3.amazonaws.com (s3.amazonaws.com)... 52.217.103.174\n",
            "Connecting to s3.amazonaws.com (s3.amazonaws.com)|52.217.103.174|:80... connected.\n",
            "HTTP request sent, awaiting response... 200 OK\n",
            "Length: 251794897 (240M) [application/x-tar]\n",
            "Saving to: ‘secondary_structure.tar.gz’\n",
            "\n",
            "secondary_structure 100%[===================>] 240.13M  53.1MB/s    in 5.5s    \n",
            "\n",
            "2021-05-24 20:49:54 (43.8 MB/s) - ‘secondary_structure.tar.gz’ saved [251794897/251794897]\n",
            "\n",
            "--2021-05-24 20:49:54--  http://s3.amazonaws.com/proteindata/data_pytorch/proteinnet.tar.gz\n",
            "Resolving s3.amazonaws.com (s3.amazonaws.com)... 52.217.34.54\n",
            "Connecting to s3.amazonaws.com (s3.amazonaws.com)|52.217.34.54|:80... connected.\n",
            "HTTP request sent, awaiting response... 200 OK\n",
            "Length: 464501179 (443M) [application/x-tar]\n",
            "Saving to: ‘proteinnet.tar.gz’\n",
            "\n",
            "proteinnet.tar.gz   100%[===================>] 442.98M  58.8MB/s    in 8.2s    \n",
            "\n",
            "2021-05-24 20:50:03 (54.1 MB/s) - ‘proteinnet.tar.gz’ saved [464501179/464501179]\n",
            "\n",
            "--2021-05-24 20:50:03--  http://s3.amazonaws.com/proteindata/data_pytorch/remote_homology.tar.gz\n",
            "Resolving s3.amazonaws.com (s3.amazonaws.com)... 52.216.240.214\n",
            "Connecting to s3.amazonaws.com (s3.amazonaws.com)|52.216.240.214|:80... connected.\n",
            "HTTP request sent, awaiting response... 200 OK\n",
            "Length: 43581262 (42M) [application/x-tar]\n",
            "Saving to: ‘remote_homology.tar.gz’\n",
            "\n",
            "remote_homology.tar 100%[===================>]  41.56M  70.9MB/s    in 0.6s    \n",
            "\n",
            "2021-05-24 20:50:03 (70.9 MB/s) - ‘remote_homology.tar.gz’ saved [43581262/43581262]\n",
            "\n",
            "--2021-05-24 20:50:03--  http://s3.amazonaws.com/proteindata/data_pytorch/fluorescence.tar.gz\n",
            "Resolving s3.amazonaws.com (s3.amazonaws.com)... 52.216.240.214\n",
            "Connecting to s3.amazonaws.com (s3.amazonaws.com)|52.216.240.214|:80... connected.\n",
            "HTTP request sent, awaiting response... 200 OK\n",
            "Length: 1635678 (1.6M) [application/x-tar]\n",
            "Saving to: ‘fluorescence.tar.gz’\n",
            "\n",
            "fluorescence.tar.gz 100%[===================>]   1.56M  --.-KB/s    in 0.05s   \n",
            "\n",
            "2021-05-24 20:50:04 (31.1 MB/s) - ‘fluorescence.tar.gz’ saved [1635678/1635678]\n",
            "\n",
            "--2021-05-24 20:50:04--  http://s3.amazonaws.com/proteindata/data_pytorch/stability.tar.gz\n",
            "Resolving s3.amazonaws.com (s3.amazonaws.com)... 52.216.240.214\n",
            "Connecting to s3.amazonaws.com (s3.amazonaws.com)|52.216.240.214|:80... connected.\n",
            "HTTP request sent, awaiting response... 200 OK\n",
            "Length: 3116829 (3.0M) [application/x-tar]\n",
            "Saving to: ‘stability.tar.gz’\n",
            "\n",
            "stability.tar.gz    100%[===================>]   2.97M  --.-KB/s    in 0.09s   \n",
            "\n",
            "2021-05-24 20:50:04 (32.2 MB/s) - ‘stability.tar.gz’ saved [3116829/3116829]\n",
            "\n",
            "tar: data: Cannot open: Not a directory\n",
            "tar: Error is not recoverable: exiting now\n",
            "tar: data: Cannot open: Not a directory\n",
            "tar: Error is not recoverable: exiting now\n",
            "tar: data: Cannot open: Not a directory\n",
            "tar: Error is not recoverable: exiting now\n",
            "tar: data: Cannot open: Not a directory\n",
            "tar: Error is not recoverable: exiting now\n",
            "tar: data: Cannot open: Not a directory\n",
            "tar: Error is not recoverable: exiting now\n"
          ],
          "name": "stdout"
        }
      ]
    },
    {
      "cell_type": "code",
      "metadata": {
        "id": "KfRxB5VimLKF",
        "colab": {
          "base_uri": "https://localhost:8080/"
        },
        "outputId": "7fa1ffdc-9096-480d-b14a-1b3f3be1ca48"
      },
      "source": [
        "%cd /content/"
      ],
      "execution_count": 11,
      "outputs": [
        {
          "output_type": "stream",
          "text": [
            "/content\n"
          ],
          "name": "stdout"
        }
      ]
    },
    {
      "cell_type": "code",
      "metadata": {
        "id": "-ZHvSx1_RIr9"
      },
      "source": [
        "!sudo mkdir /content/data_file"
      ],
      "execution_count": 17,
      "outputs": []
    },
    {
      "cell_type": "code",
      "metadata": {
        "colab": {
          "base_uri": "https://localhost:8080/"
        },
        "id": "Kp_sQi2XRJrK",
        "outputId": "ef0aae09-e14a-482d-ff47-2be125dc2d0f"
      },
      "source": [
        "!wget http://s3.amazonaws.com/proteindata/data_pytorch/secondary_structure.tar.gz\n",
        "!tar -xzf secondary_structure.tar.gz -C ./data_file"
      ],
      "execution_count": 18,
      "outputs": [
        {
          "output_type": "stream",
          "text": [
            "--2021-05-24 21:28:10--  http://s3.amazonaws.com/proteindata/data_pytorch/secondary_structure.tar.gz\n",
            "Resolving s3.amazonaws.com (s3.amazonaws.com)... 52.216.112.158\n",
            "Connecting to s3.amazonaws.com (s3.amazonaws.com)|52.216.112.158|:80... connected.\n",
            "HTTP request sent, awaiting response... 200 OK\n",
            "Length: 251794897 (240M) [application/x-tar]\n",
            "Saving to: ‘secondary_structure.tar.gz’\n",
            "\n",
            "secondary_structure 100%[===================>] 240.13M  52.7MB/s    in 4.5s    \n",
            "\n",
            "2021-05-24 21:28:15 (52.9 MB/s) - ‘secondary_structure.tar.gz’ saved [251794897/251794897]\n",
            "\n"
          ],
          "name": "stdout"
        }
      ]
    },
    {
      "cell_type": "code",
      "metadata": {
        "colab": {
          "base_uri": "https://localhost:8080/"
        },
        "id": "xpdZMge3SKg1",
        "outputId": "7aca6034-b498-48a3-f32b-f00e34920822"
      },
      "source": [
        "!wget http://s3.amazonaws.com/proteindata/data_pytorch/proteinnet.tar.gz\n",
        "!wget http://s3.amazonaws.com/proteindata/data_pytorch/remote_homology.tar.gz\n",
        "!wget http://s3.amazonaws.com/proteindata/data_pytorch/fluorescence.tar.gz\n",
        "!wget http://s3.amazonaws.com/proteindata/data_pytorch/stability.tar.gz\n",
        "\n",
        "\n",
        "!tar -xzf proteinnet.tar.gz -C ./data_file\n",
        "!tar -xzf remote_homology.tar.gz -C ./data_file\n",
        "!tar -xzf fluorescence.tar.gz -C ./data_file\n",
        "!tar -xzf stability.tar.gz -C ./data_file"
      ],
      "execution_count": 20,
      "outputs": [
        {
          "output_type": "stream",
          "text": [
            "--2021-05-24 21:30:29--  http://s3.amazonaws.com/proteindata/data_pytorch/proteinnet.tar.gz\n",
            "Resolving s3.amazonaws.com (s3.amazonaws.com)... 52.217.99.206\n",
            "Connecting to s3.amazonaws.com (s3.amazonaws.com)|52.217.99.206|:80... connected.\n",
            "HTTP request sent, awaiting response... 200 OK\n",
            "Length: 464501179 (443M) [application/x-tar]\n",
            "Saving to: ‘proteinnet.tar.gz’\n",
            "\n",
            "proteinnet.tar.gz   100%[===================>] 442.98M  56.3MB/s    in 8.2s    \n",
            "\n",
            "2021-05-24 21:30:37 (53.7 MB/s) - ‘proteinnet.tar.gz’ saved [464501179/464501179]\n",
            "\n",
            "--2021-05-24 21:30:37--  http://s3.amazonaws.com/proteindata/data_pytorch/remote_homology.tar.gz\n",
            "Resolving s3.amazonaws.com (s3.amazonaws.com)... 52.217.137.72\n",
            "Connecting to s3.amazonaws.com (s3.amazonaws.com)|52.217.137.72|:80... connected.\n",
            "HTTP request sent, awaiting response... 200 OK\n",
            "Length: 43581262 (42M) [application/x-tar]\n",
            "Saving to: ‘remote_homology.tar.gz’\n",
            "\n",
            "remote_homology.tar 100%[===================>]  41.56M  49.7MB/s    in 0.8s    \n",
            "\n",
            "2021-05-24 21:30:38 (49.7 MB/s) - ‘remote_homology.tar.gz’ saved [43581262/43581262]\n",
            "\n",
            "--2021-05-24 21:30:38--  http://s3.amazonaws.com/proteindata/data_pytorch/fluorescence.tar.gz\n",
            "Resolving s3.amazonaws.com (s3.amazonaws.com)... 52.216.130.37\n",
            "Connecting to s3.amazonaws.com (s3.amazonaws.com)|52.216.130.37|:80... connected.\n",
            "HTTP request sent, awaiting response... 200 OK\n",
            "Length: 1635678 (1.6M) [application/x-tar]\n",
            "Saving to: ‘fluorescence.tar.gz’\n",
            "\n",
            "fluorescence.tar.gz 100%[===================>]   1.56M  --.-KB/s    in 0.05s   \n",
            "\n",
            "2021-05-24 21:30:38 (30.0 MB/s) - ‘fluorescence.tar.gz’ saved [1635678/1635678]\n",
            "\n",
            "--2021-05-24 21:30:39--  http://s3.amazonaws.com/proteindata/data_pytorch/stability.tar.gz\n",
            "Resolving s3.amazonaws.com (s3.amazonaws.com)... 52.216.130.37\n",
            "Connecting to s3.amazonaws.com (s3.amazonaws.com)|52.216.130.37|:80... connected.\n",
            "HTTP request sent, awaiting response... 200 OK\n",
            "Length: 3116829 (3.0M) [application/x-tar]\n",
            "Saving to: ‘stability.tar.gz’\n",
            "\n",
            "stability.tar.gz    100%[===================>]   2.97M  --.-KB/s    in 0.08s   \n",
            "\n",
            "2021-05-24 21:30:39 (37.8 MB/s) - ‘stability.tar.gz’ saved [3116829/3116829]\n",
            "\n"
          ],
          "name": "stdout"
        }
      ]
    },
    {
      "cell_type": "code",
      "metadata": {
        "id": "OiPi3W-8ReZ2"
      },
      "source": [
        "!mv data_file/secondary_structure/ onedrive/proteinE/"
      ],
      "execution_count": 19,
      "outputs": []
    },
    {
      "cell_type": "code",
      "metadata": {
        "id": "ajlfCBvoSBAE"
      },
      "source": [
        "!mv data_file/ onedrive/proteinE/"
      ],
      "execution_count": 21,
      "outputs": []
    },
    {
      "cell_type": "code",
      "metadata": {
        "id": "FWFxuDhYSf9G"
      },
      "source": [
        ""
      ],
      "execution_count": null,
      "outputs": []
    }
  ]
}